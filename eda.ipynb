{
 "cells": [
  {
   "cell_type": "code",
   "execution_count": 1,
   "metadata": {
    "_kg_hide-input": true,
    "_kg_hide-output": true
   },
   "outputs": [],
   "source": [
    "import numpy as np\n",
    "import pandas as pd\n",
    "from sklearn import metrics\n",
    "\n",
    "import matplotlib.pyplot as plt\n",
    "import seaborn as sns\n",
    "\n",
    "import warnings\n",
    "\n",
    "warnings.filterwarnings('ignore')\n",
    "pd.options.display.max_columns = 10\n",
    "pd.options.display.max_colwidth = 20\n",
    "\n",
    "## Validation\n",
    "# :validation_df - DataFrame to make validation # type: pandas DataFrame\n",
    "# :preds_df - DataFrame with predictions        # type: pandas DataFrame (columns ['id','prediction'])\n",
    "# :verbose - print or not full report           # type: bool\n",
    "def local_validation(validation_df, preds_df, verbose=False):\n",
    "    validation_df = validation_df.merge(preds_df[['id', 'prediction']], on=['id'], how='left').dropna()\n",
    "       \n",
    "    for col in ['target'] + identity_columns:\n",
    "        validation_df[col] = np.where(validation_df[col] >= 0.5, True, False)\n",
    "\n",
    "    SUBGROUP_AUC = 'subgroup_auc'\n",
    "    BPSN_AUC = 'bpsn_auc'  \n",
    "    BNSP_AUC = 'bnsp_auc'  \n",
    "    TOXICITY_COLUMN = 'target'\n",
    "\n",
    "    def compute_auc(y_true, y_pred):\n",
    "        try:\n",
    "            return metrics.roc_auc_score(y_true, y_pred)\n",
    "        except ValueError:\n",
    "            return np.nan\n",
    "    \n",
    "    def compute_subgroup_auc(df, subgroup, label, model_name):\n",
    "        return compute_auc(df[df[subgroup]][label], df[df[subgroup]][model_name])\n",
    "    \n",
    "    def compute_bpsn_auc(df, subgroup, label, model_name):\n",
    "        \"\"\"Computes the AUC of the within-subgroup negative examples and the background positive examples.\"\"\"\n",
    "        subgroup_negative_examples = df[df[subgroup] & ~df[label]]\n",
    "        non_subgroup_positive_examples = df[~df[subgroup] & df[label]]\n",
    "        examples = subgroup_negative_examples.append(non_subgroup_positive_examples)\n",
    "        return compute_auc(examples[label], examples[model_name])\n",
    "    \n",
    "    def compute_bnsp_auc(df, subgroup, label, model_name):\n",
    "        \"\"\"Computes the AUC of the within-subgroup positive examples and the background negative examples.\"\"\"\n",
    "        subgroup_positive_examples = df[df[subgroup] & df[label]]\n",
    "        non_subgroup_negative_examples = df[~df[subgroup] & ~df[label]]\n",
    "        examples = subgroup_positive_examples.append(non_subgroup_negative_examples)\n",
    "        return compute_auc(examples[label], examples[model_name])\n",
    "    \n",
    "    def compute_bias_metrics_for_model(dataset, subgroups, model, label_col, include_asegs=False):\n",
    "        \"\"\"Computes per-subgroup metrics for all subgroups and one model.\"\"\"\n",
    "        records = []\n",
    "        for subgroup in subgroups:\n",
    "            record = {\n",
    "                'subgroup': subgroup,\n",
    "                'subgroup_size': len(dataset[dataset[subgroup]])\n",
    "            }\n",
    "            record[SUBGROUP_AUC] = compute_subgroup_auc(dataset, subgroup, label_col, model)\n",
    "            record[BPSN_AUC] = compute_bpsn_auc(dataset, subgroup, label_col, model)\n",
    "            record[BNSP_AUC] = compute_bnsp_auc(dataset, subgroup, label_col, model)\n",
    "            records.append(record)\n",
    "        return pd.DataFrame(records).sort_values('subgroup_auc', ascending=True)\n",
    "    \n",
    "    def calculate_overall_auc(df, model_name):\n",
    "        return metrics.roc_auc_score(df[TOXICITY_COLUMN], df[model_name])\n",
    "    \n",
    "    def power_mean(series, p):\n",
    "        return np.power(sum(np.power(series, p)) / len(series), 1 / p)\n",
    "    \n",
    "    def get_final_metric(bias_df, overall_auc, POWER=-5, OVERALL_MODEL_WEIGHT=0.25):\n",
    "        bias_score = np.average([\n",
    "            power_mean(bias_df[SUBGROUP_AUC], POWER),\n",
    "            power_mean(bias_df[BPSN_AUC], POWER),\n",
    "            power_mean(bias_df[BNSP_AUC], POWER)\n",
    "        ])\n",
    "        return (OVERALL_MODEL_WEIGHT * overall_auc) + ((1 - OVERALL_MODEL_WEIGHT) * bias_score)\n",
    "\n",
    "    bias_metrics_df = compute_bias_metrics_for_model(validation_df, identity_columns, 'prediction', 'target')\n",
    "    if verbose:\n",
    "        print(bias_metrics_df)\n",
    "    print(get_final_metric(bias_metrics_df, calculate_overall_auc(validation_df, 'prediction')))\n",
    "\n",
    "def validate_df(df, preds, verbose=True, val_df='train'):\n",
    "    df = df.copy()\n",
    "    df['prediction'] = preds\n",
    "    if val_df=='train':\n",
    "        local_validation(train, df, verbose)  \n",
    "    else:\n",
    "        local_validation(test, df, verbose)  \n",
    "## ----------------------------------------------------------------------------------------------------\n"
   ]
  },
  {
   "cell_type": "markdown",
   "metadata": {},
   "source": [
    "# Kernel Summary\n",
    "\n",
    "We can divide this competition pipeline into **5 parts**.\n",
    "\n",
    "### 1 - Data Augmentation\n",
    "The main question - can we find a good, labeled dataset to augment our data?\n",
    "The only one that I have in mind is the past Jigsaw competition.\n",
    "https://www.kaggle.com/c/jigsaw-toxic-comment-classification-challenge\n",
    "\n",
    "Other possibilities:\n",
    "* Translations\n",
    "* Sentence permutation\n",
    "\n",
    "We didn't try anything of this till now.\n",
    "\n",
    "\n",
    "### 2 - Text preprocessing\n",
    "**Key findings here:**\n",
    "* We have to do different preprocess for Bert and for embeddings;\n",
    "* We can use different preprocess functions (that brings diversity for final stacking);\n",
    "* We can't use data from the test set, as it will be different for 2nd stage and we can't risk;\n",
    "* It is a VERY important step.\n",
    "\n",
    "\n",
    "### 3 - Modeling\n",
    "**Key findings here:**\n",
    "* Bert is better than LSTM, but takes much more time;\n",
    "* Stacking works better with different models (Bert/LSTM/CuDNNGRU);\n",
    "* Till now we tested 3 models Fatsai Bert / Fastai LSTM / Keras CuDNNGRU;\n",
    "* More options here - Character Level CNNs in Keras / Elmo / ULMfit;\n",
    "* Bag of words doesn't perform well even on stacking level;\n",
    "* We do NOT have much time left to do experiments, so probably we have to concentrate our efforts on what we have done.\n",
    "\n",
    "\n",
    "### 4 - Stacking\n",
    "**Key findings here:**\n",
    "* LGBM works best on this level;\n",
    "* No overfiting (we have base \"regularization\" by converting float32 to float16 ))));\n",
    "* We can add more models here - Log/Linear regression / Catboost / XGBM etc.;\n",
    "* We can pretrain models and use kernel just for predictions.\n",
    "\n",
    "\n",
    "### 5 - Ensemble\n",
    "**Key findings here:**\n",
    "* If we will use more than 1 model in \"part 4\" we can do ensembling;\n",
    "* SDG works best for \"weighted\" result;\n",
    "* We need really good additional models in \"part 4\" to this step makes sense.\n",
    "\n",
    "\n",
    "### Summary\n",
    "Our final submission is as strong as strong each part. \n",
    "Better preprocess -> better model performance -> better stacking -> better result.\n",
    "We should do updates and improvements in each step.\n",
    "\n",
    "Let's see what we have and what we can do step by step."
   ]
  },
  {
   "cell_type": "markdown",
   "metadata": {},
   "source": [
    "----------------"
   ]
  },
  {
   "cell_type": "markdown",
   "metadata": {},
   "source": [
    "# Part 1 - Data Augmentation\n",
    "#### !IMPORTANT -> All augmentated data should be placed in the same fold with original to control leakage.\n"
   ]
  },
  {
   "cell_type": "markdown",
   "metadata": {},
   "source": [
    "## 1.1 Data augmentation from past challenge\n",
    "What we have from past Jigsaw challenge.\n",
    "\n",
    "We have \"matching\" on these labels (name could differ, but the meaning is the same):\n",
    "* toxic\n",
    "* severe_toxic\n",
    "* obscene\n",
    "* threat\n",
    "* insult\n",
    "* identity_hate"
   ]
  },
  {
   "cell_type": "code",
   "execution_count": 2,
   "metadata": {
    "_cell_guid": "b1076dfc-b9ad-4769-8c92-a6c4dae69d19",
    "_uuid": "8f2839f25d086af736a60e9eeb907d3b93b6e0e5"
   },
   "outputs": [
    {
     "name": "stdout",
     "output_type": "stream",
     "text": [
      "Total labeled Items: 159571\n",
      "Lables and Data ['id', 'comment_text', 'toxic', 'severe_toxic', 'obscene', 'threat', 'insult', 'identity_hate']\n",
      "########## Number of items by label\n",
      "##### toxic 15294\n",
      "##### severe_toxic 1595\n",
      "##### obscene 8449\n",
      "##### threat 478\n",
      "##### insult 7877\n",
      "##### identity_hate 1405\n"
     ]
    }
   ],
   "source": [
    "df = pd.read_csv('../input/jigsaw-toxic-comment-classification-challenge/train.csv')\n",
    "print('Total labeled Items:', len(df))\n",
    "print('Lables and Data', list(df))\n",
    "print('#'*10, 'Number of items by label')\n",
    "for col in list(df)[2:]:\n",
    "    print('#'*5,col, len(df[df[col]>=0.5]))"
   ]
  },
  {
   "cell_type": "markdown",
   "metadata": {},
   "source": [
    "Not much data, but it is well labeled. \n",
    "What we can do with this set -> preprocess with one of our Preprocessors and train Bert on it.\n",
    "Predict all our TRAIN and TEST sets and use it as meta-features for stacking.\n",
    "* No weighting, as we do not have identity labels here\n",
    "* No need to hard tune Bert for it\n",
    "\n",
    "We need prof-of-concept check (just simple draft to see if we can have any boost)"
   ]
  },
  {
   "cell_type": "markdown",
   "metadata": {},
   "source": [
    "## 1.2 Translation\n",
    "We can use some API to translate PART of the train data set.\n",
    "Only comment with positive identity matching.\n",
    "\n",
    "It could give us vocabulary diversity for 2nd stage test data.\n",
    "\n",
    "**Example**\n",
    "* Where does the demand for self driving cars come from?  Do we really have a shortage of drivers? **Is this not an industry in search of a market that does not exist?**\n",
    "* ¿De dónde viene la demanda de autos de auto conducción? ¿Realmente tenemos una escasez de conductores? ¿No es esto una industria en busca de un mercado que no existe?\n",
    "* Where does the demand for auto driving cars come from? Do we really have a shortage of drivers? **Is not this an industry looking for a market that does not exist?**\n",
    "\n",
    "We will NOT translate TEST comments as we will not have such option (no online access) for the 2nd stage.\n",
    "\n",
    "Google cloud and Microsoft have trial API -> We need to test it.\n",
    "\n",
    "\n",
    "Vocabulary deversity:\n",
    "~~~~\n",
    "gay /ɡeɪ/\n",
    "noun\n",
    "a homosexual, especially a man.\n",
    "synonyms:\thomosexual, lesbian, gay person, lesbigay;\n",
    "~~~~"
   ]
  },
  {
   "cell_type": "code",
   "execution_count": 3,
   "metadata": {
    "_cell_guid": "79c7e3d0-c299-4dcb-8224-4455121ee9b0",
    "_uuid": "d629ff2d2480ee46fbb7e2d37f6b5fab8052498a"
   },
   "outputs": [
    {
     "name": "stdout",
     "output_type": "stream",
     "text": [
      "Comment for translation: 210192\n"
     ]
    }
   ],
   "source": [
    "df = pd.read_csv('../input/jigsaw-unintended-bias-in-toxicity-classification/train.csv').fillna(0)\n",
    "identity_columns = ['male', 'female', 'homosexual_gay_or_lesbian', 'christian', 'jewish',\n",
    "                    'muslim', 'black', 'white', 'psychiatric_or_mental_illness']\n",
    "\n",
    "df = df[df[identity_columns].sum(axis=1)>0]\n",
    "print('Comment for translation:', len(df))"
   ]
  },
  {
   "cell_type": "markdown",
   "metadata": {},
   "source": [
    "## 1.3 Sentence permutation\n",
    "Idea is very simple. 1 + 2 = 3 = 2 + 1\n",
    "\n",
    "**Example**\n",
    "* Where does the demand for self driving cars come from?  Do we really have a shortage of drivers? Is this not an industry in search of a market that does not exist?\n",
    "* Is this not an industry in search of a market that does not exist? Where does the demand for self driving cars come from?  Do we really have a shortage of drivers?\n",
    "\n",
    "We could try to devide comments by sentences and then do a swap.\n",
    "\n",
    "In this case we can do it on TRAIN and TEST data (just don't forget to average final score).\n",
    "\n",
    "As we have huge number of comments we can do it only for train comments with positive identity matching and all test set.\n"
   ]
  },
  {
   "cell_type": "markdown",
   "metadata": {},
   "source": [
    "### 1.4 Synonymization\n",
    "It is a bad option. The main problem here that we can swap words out of context.\n",
    "To do it in the right way will be a time-consuming task."
   ]
  },
  {
   "cell_type": "markdown",
   "metadata": {},
   "source": [
    "## 1.5 Summary\n",
    "I do not think we have any other real option for data augmentation.\n",
    "\n",
    "Please correct me if I'm wrong.\n",
    "\n",
    "** literature **\n",
    "\n",
    "* classification techniques for noisy and imbalanced data\n",
    "https://fau.digital.flvc.org/islandora/object/fau%3A4271/datastream/OBJ/download/Classification_techniques_for_noisy_and_imbalanced_data.pdf\n",
    "\n",
    "* Imbalanced text classification: A term weighting approach\n",
    "https://ccc.inaoep.mx/~villasen/bib/Imbalanced%20text%20classification-%20A%20term%20weighting%20approach.pdf\n",
    "\n",
    "* Addressing the problem of Unbalanced Data sets in Sentiment Analysis\n",
    "https://www.academia.edu/5505329/Addressing_the_problem_of_Unbalanced_Data_sets_in_Sentiment_Analysis\n",
    "\n",
    "* Handling of Imbalanced Data in Text. Classification: Category-Based Term Weights\n",
    "https://link.springer.com/chapter/10.1007%2F978-1-84628-754-1_10\n"
   ]
  },
  {
   "cell_type": "markdown",
   "metadata": {},
   "source": [
    "----------------------------------------------------------------------------------------------------------------"
   ]
  },
  {
   "cell_type": "markdown",
   "metadata": {},
   "source": [
    "# Part 2 - Text preprocessing\n",
    "\n",
    "Actually, we have 4 options for preprocessing. You can find it in our shared kernel.\n",
    "\n",
    "https://www.kaggle.com/kyakovlev/jigsaw-preprocess-collections\n",
    "\n",
    "* \"Classic preprocess\"\n",
    "https://www.kaggle.com/gpreda/jigsaw-fast-compact-solution\n",
    "\n",
    "* \"Modified classic\"\n",
    "https://www.kaggle.com/christofhenkel/how-to-preprocessing-for-glove-part2-usage\n",
    "\n",
    "* Own preprocess for Bert (\"Experimental preprocess for Bert\")\n",
    "\n",
    "* Own preprocess for embeddings (\"Experimental preprocess\")\n",
    "\n",
    "\n",
    "\"Modified classic\" we can use for benchmarks as it serves for bert and for embeddings (I will prepare a \"single step\" model for a benchmark with the possibility to \"probe\" LB)."
   ]
  },
  {
   "cell_type": "markdown",
   "metadata": {},
   "source": [
    "## 2.1 Noise reduction\n",
    "\n",
    "Main things we can do is to reduce noise in data.\n",
    "\n",
    "**Links - Isolate domain name / split by words and wrap link string**\n",
    "* **Example:**\n",
    "* https://www.theguardian.com/uk-news/2017/jul/26/charlie-gard-us-pro-life-rightwing-ethics\"\n",
    "* theguardian.com [ uk news charlie gard us pro life rightwing ethics ]\n",
    "\n",
    "\n",
    "**Spam chars - chars are not present in our Vocabulary (Fastext or Glove)**\n",
    "* \"\\u200b\\u200eعدويهصقأناخلىبمغر\" etc.\n",
    "\n",
    "\n",
    "**Contractions**\n",
    "* Some Vocabularies have vectors for contractions, some not. Use contraction dict matching to convert missing ones.\n",
    "\n",
    "\n",
    "**Word normalization**\n",
    "* Mother's -> Mother\n",
    "* Mothers -> Mother (if plural form is not in Vocabulary)\n",
    "* «Mother» - > \" Mother \"\n",
    "* etc.\n",
    "\n",
    "\n",
    "**Punctuation isolation**\n",
    "* \"Mother\" -> \" Mother \"\n",
    "* Mother.Father -> Mother . Father\n",
    "\n",
    "\n",
    "**Emoji**\n",
    "* Depends on Vocabulary \n",
    "* Convert to text\n",
    "* or remove\n",
    "\n",
    "\n",
    "**Bad words matching**\n",
    "* @$$ -> ass\n",
    "* F*ck -> Fuck\n",
    "* etc\n",
    "\n",
    "All normalization has to be done to match Vocabulary of the model (FastText/Glove/Bert)\n"
   ]
  },
  {
   "cell_type": "markdown",
   "metadata": {},
   "source": [
    "-----"
   ]
  },
  {
   "cell_type": "markdown",
   "metadata": {},
   "source": [
    "# EDA\n",
    "Before we can pass to modeling, let's check what kind of data we have."
   ]
  },
  {
   "cell_type": "code",
   "execution_count": 4,
   "metadata": {},
   "outputs": [],
   "source": [
    "train = pd.read_csv('../input/jigsaw-unintended-bias-in-toxicity-classification/train.csv').fillna(0)\n",
    "test = pd.read_csv('../input/jigsaw-unintended-bias-in-toxicity-classification/test.csv').fillna(0)"
   ]
  },
  {
   "cell_type": "markdown",
   "metadata": {},
   "source": [
    "## Training and test data"
   ]
  },
  {
   "cell_type": "code",
   "execution_count": 5,
   "metadata": {},
   "outputs": [
    {
     "name": "stdout",
     "output_type": "stream",
     "text": [
      "Columns in TRAIN data set ['id', 'target', 'comment_text', 'severe_toxicity', 'obscene', 'identity_attack', 'insult', 'threat', 'asian', 'atheist', 'bisexual', 'black', 'buddhist', 'christian', 'female', 'heterosexual', 'hindu', 'homosexual_gay_or_lesbian', 'intellectual_or_learning_disability', 'jewish', 'latino', 'male', 'muslim', 'other_disability', 'other_gender', 'other_race_or_ethnicity', 'other_religion', 'other_sexual_orientation', 'physical_disability', 'psychiatric_or_mental_illness', 'transgender', 'white', 'created_date', 'publication_id', 'parent_id', 'article_id', 'rating', 'funny', 'wow', 'sad', 'likes', 'disagree', 'sexual_explicit', 'identity_annotator_count', 'toxicity_annotator_count']\n",
      "Columns in TEST data set ['id', 'comment_text']\n"
     ]
    }
   ],
   "source": [
    "print('Columns in TRAIN data set', list(train))\n",
    "print('Columns in TEST data set', list(test))"
   ]
  },
  {
   "cell_type": "markdown",
   "metadata": {},
   "source": [
    "What we can see here is we can use only 'comment_text' directly for training.\n",
    "\n",
    "Other columns we can use in 'indirect' mode (weights, aux-output, etc.)"
   ]
  },
  {
   "cell_type": "markdown",
   "metadata": {},
   "source": [
    "## Aux-output\n",
    "Lets check what kind of columns we can use as aux-output (make predictions and use it on stacking level)."
   ]
  },
  {
   "cell_type": "code",
   "execution_count": 6,
   "metadata": {},
   "outputs": [
    {
     "name": "stdout",
     "output_type": "stream",
     "text": [
      "LR overall AUC for set_1: 0.9952269312413816\n",
      "   bnsp_auc  bpsn_auc             subgroup  subgroup_auc  subgroup_size\n",
      "2  0.987218  0.983876  homosexual_gay_o...      0.956842          10997\n",
      "6  0.988908  0.981660                black      0.957268          14901\n",
      "7  0.989530  0.982687                white      0.960676          25082\n",
      "5  0.987721  0.986865               muslim      0.965599          21006\n",
      "4  0.988489  0.988288               jewish      0.972615           7651\n",
      "0  0.992212  0.990282                 male      0.983793          44484\n",
      "1  0.992523  0.990501               female      0.984783          53429\n",
      "3  0.990592  0.992357            christian      0.984793          40423\n",
      "8  0.997676  0.986785  psychiatric_or_m...      0.993017           4889\n",
      "0.9863711832271177\n"
     ]
    }
   ],
   "source": [
    "set_1 = ['severe_toxicity', 'obscene', 'identity_attack', 'insult', 'threat', 'sexual_explicit']\n",
    "set_2 = ['asian', 'atheist', 'bisexual', 'black', 'buddhist', 'christian', 'female', \n",
    "        'heterosexual', 'hindu', 'homosexual_gay_or_lesbian', \n",
    "         'intellectual_or_learning_disability', 'jewish', 'latino', 'male', 'muslim', \n",
    "         'other_disability', 'other_gender', 'other_race_or_ethnicity', \n",
    "         'other_religion', 'other_sexual_orientation', 'physical_disability', \n",
    "         'psychiatric_or_mental_illness', 'transgender', 'white']\n",
    "set_3 = ['created_date', 'publication_id', 'parent_id', 'article_id','rating']\n",
    "set_4 = ['funny', 'wow', 'sad', 'likes', 'disagree']\n",
    "\n",
    "from sklearn.linear_model import LinearRegression\n",
    "X = train[set_1]\n",
    "y = np.where((train['target']>=0.5),1,0)\n",
    "\n",
    "lr = LinearRegression().fit(X, y)\n",
    "print('LR overall AUC for set_1:', metrics.roc_auc_score(y, lr.predict(X)))\n",
    "validate_df(train, lr.predict(X), verbose=True, val_df='train')"
   ]
  },
  {
   "cell_type": "markdown",
   "metadata": {},
   "source": [
    "**How we can interpret these results?**\n",
    "\t\n",
    "IF we can do a perfect prediction for aux-columns in SET 1\n",
    "we can have  0.9863711832271177 BIASed AUC\n",
    "\n",
    "It means that this columns ARE important.\n"
   ]
  },
  {
   "cell_type": "markdown",
   "metadata": {},
   "source": [
    "### Identities"
   ]
  },
  {
   "cell_type": "code",
   "execution_count": 7,
   "metadata": {},
   "outputs": [
    {
     "name": "stdout",
     "output_type": "stream",
     "text": [
      "LR overall AUC for set_1: 0.5664551637513515\n",
      "   bnsp_auc  bpsn_auc             subgroup  subgroup_auc  subgroup_size\n",
      "8  0.983299  0.081282  psychiatric_or_m...      0.535337           4889\n",
      "6  0.995805  0.025687                black      0.561528          14901\n",
      "7  0.994440  0.031884                white      0.565319          25082\n",
      "5  0.986521  0.072573               muslim      0.587189          21006\n",
      "1  0.971918  0.120669               female      0.588977          53429\n",
      "2  0.993460  0.039735  homosexual_gay_o...      0.599578          10997\n",
      "0  0.970874  0.121341                 male      0.628304          44484\n",
      "3  0.567196  0.703854            christian      0.638012          40423\n",
      "4  0.957901  0.165183               jewish      0.661186           7651\n",
      "0.5005886979248844\n"
     ]
    }
   ],
   "source": [
    "X = train[set_2]\n",
    "y = np.where((train['target']>=0.5),1,0)\n",
    "\n",
    "lr = LinearRegression().fit(X, y)\n",
    "print('LR overall AUC for set_1:', metrics.roc_auc_score(y, lr.predict(X)))\n",
    "validate_df(train, lr.predict(X), verbose=True, val_df='train')"
   ]
  },
  {
   "cell_type": "markdown",
   "metadata": {},
   "source": [
    "**How we can interpret these results?**\n",
    "\t\n",
    "Identity mark -> not always a toxicity. \n",
    "\n",
    "Key word here -> NOT ALWAYS, please see that for SOME identity groups subgroup_auc is high.\n",
    "It means that for some groups identity keywords are toxic ones.\n",
    "\n",
    "Probably it is good idea to include it in aux output for some model."
   ]
  },
  {
   "cell_type": "markdown",
   "metadata": {},
   "source": [
    "## Emotions"
   ]
  },
  {
   "cell_type": "code",
   "execution_count": 8,
   "metadata": {},
   "outputs": [
    {
     "name": "stdout",
     "output_type": "stream",
     "text": [
      "LR overall AUC for set_1: 0.4998526709838365\n",
      "   bnsp_auc  bpsn_auc             subgroup  subgroup_auc  subgroup_size\n",
      "5  0.528619  0.440191               muslim      0.469677          21006\n",
      "2  0.504689  0.475326  homosexual_gay_o...      0.479944          10997\n",
      "6  0.499472  0.482804                black      0.482026          14901\n",
      "7  0.512209  0.469666                white      0.482546          25082\n",
      "1  0.519142  0.464238               female      0.482971          53429\n",
      "8  0.500665  0.487011  psychiatric_or_m...      0.487590           4889\n",
      "4  0.524716  0.466572               jewish      0.492091           7651\n",
      "0  0.513705  0.482875                 male      0.496808          44484\n",
      "3  0.521030  0.484028            christian      0.505610          40423\n",
      "0.4925696880689195\n"
     ]
    }
   ],
   "source": [
    "X = train[set_4]\n",
    "y = np.where((train['target']>=0.5),1,0)\n",
    "\n",
    "lr = LinearRegression().fit(X, y)\n",
    "print('LR overall AUC for set_1:', metrics.roc_auc_score(y, lr.predict(X)))\n",
    "validate_df(train, lr.predict(X), verbose=True, val_df='train')"
   ]
  },
  {
   "cell_type": "markdown",
   "metadata": {},
   "source": [
    "NOTHING)).\n",
    "How we can use this information?\n",
    "\n",
    "['funny', 'wow', 'sad', 'likes', 'disagree']\n",
    "\n",
    "It is very valuable information -> we just need to find a way to use it.\n",
    "\n",
    "\n",
    "\n"
   ]
  },
  {
   "cell_type": "markdown",
   "metadata": {},
   "source": [
    "## Information about comment and article\n",
    "\n",
    "\n"
   ]
  },
  {
   "cell_type": "code",
   "execution_count": 9,
   "metadata": {},
   "outputs": [
    {
     "name": "stdout",
     "output_type": "stream",
     "text": [
      "LR overall AUC for set_1: 0.5284591347749571\n",
      "   bnsp_auc  bpsn_auc             subgroup  subgroup_auc  subgroup_size\n",
      "3  0.509863  0.527962            christian      0.508128          40423\n",
      "2  0.493212  0.546381  homosexual_gay_o...      0.510557          10997\n",
      "7  0.532223  0.508260                white      0.512118          25082\n",
      "8  0.492354  0.549569  psychiatric_or_m...      0.512743           4889\n",
      "4  0.532602  0.515800               jewish      0.519907           7651\n",
      "5  0.531736  0.516659               muslim      0.520126          21006\n",
      "0  0.534100  0.515633                 male      0.521159          44484\n",
      "1  0.540468  0.510690               female      0.522641          53429\n",
      "6  0.543130  0.511257                black      0.526597          14901\n",
      "0.5219712966032188\n"
     ]
    }
   ],
   "source": [
    "train['created_date'] = pd.to_datetime(train['created_date'])\n",
    "train['year'] = train['created_date'].dt.year.astype(np.int8)\n",
    "train['month'] = train['created_date'].dt.month.astype(np.int8)\n",
    "train['day'] = train['created_date'].dt.day.astype(np.int8)\n",
    "train['weekday'] = train['created_date'].dt.weekday.astype(np.int8)\n",
    "train['time_block'] = (train['created_date'].dt.year - 2015).astype(np.int8)*12 + (train['created_date'].dt.month).astype(np.int8)\n",
    "\n",
    "set_3 = ['year', 'month', 'day', 'weekday', 'publication_id', 'parent_id', 'article_id']\n",
    "\n",
    "X = train[set_3]\n",
    "y = np.where((train['target']>=0.5),1,0)\n",
    "\n",
    "lr = LinearRegression().fit(X, y)\n",
    "print('LR overall AUC for set_1:', metrics.roc_auc_score(y, lr.predict(X)))\n",
    "validate_df(train, lr.predict(X), verbose=True, val_df='train')"
   ]
  },
  {
   "cell_type": "markdown",
   "metadata": {},
   "source": [
    "It seems that this data is useless,  but it's not. It is some kind of Categorical data and we need to treat it in that way."
   ]
  },
  {
   "cell_type": "code",
   "execution_count": 10,
   "metadata": {},
   "outputs": [
    {
     "data": {
      "image/png": "[encoded data removed]",
      "text/plain": [
       "<Figure size 720x432 with 1 Axes>"
      ]
     },
     "metadata": {},
     "output_type": "display_data"
    }
   ],
   "source": [
    "temp_df = train.groupby('month').agg({'target':'mean'}).reset_index()\n",
    "plt.figure(figsize=(10, 6))\n",
    "plt.plot(temp_df['month'], temp_df['target']);"
   ]
  },
  {
   "cell_type": "code",
   "execution_count": 11,
   "metadata": {},
   "outputs": [
    {
     "data": {
      "image/png": "[encoded data removed]",
      "text/plain": [
       "<Figure size 720x432 with 1 Axes>"
      ]
     },
     "metadata": {},
     "output_type": "display_data"
    }
   ],
   "source": [
    "temp_df = train.groupby('weekday').agg({'target':'mean'}).reset_index()\n",
    "plt.figure(figsize=(10, 6))\n",
    "plt.plot(temp_df['weekday'], temp_df['target']);"
   ]
  },
  {
   "cell_type": "code",
   "execution_count": 12,
   "metadata": {},
   "outputs": [
    {
     "data": {
      "image/png": "[encoded data removed]",
      "text/plain": [
       "<Figure size 720x432 with 1 Axes>"
      ]
     },
     "metadata": {},
     "output_type": "display_data"
    }
   ],
   "source": [
    "temp_df = train.groupby('time_block').agg({'target':'mean'}).reset_index()\n",
    "plt.figure(figsize=(10, 6))\n",
    "plt.plot(temp_df['time_block'], temp_df['target']);"
   ]
  },
  {
   "cell_type": "code",
   "execution_count": 13,
   "metadata": {},
   "outputs": [
    {
     "data": {
      "image/png": "[encoded data removed]",
      "text/plain": [
       "<Figure size 720x432 with 1 Axes>"
      ]
     },
     "metadata": {},
     "output_type": "display_data"
    }
   ],
   "source": [
    "plt.figure(figsize=(10, 6))\n",
    "plt.plot(train['id']);"
   ]
  },
  {
   "cell_type": "markdown",
   "metadata": {},
   "source": []
  },
  {
   "cell_type": "markdown",
   "metadata": {},
   "source": []
  },
  {
   "cell_type": "markdown",
   "metadata": {},
   "source": []
  },
  {
   "cell_type": "markdown",
   "metadata": {},
   "source": []
  }
 ],
 "metadata": {
  "kernelspec": {
   "display_name": "Python 3",
   "language": "python",
   "name": "python3"
  },
  "language_info": {
   "codemirror_mode": {
    "name": "ipython",
    "version": 3
   },
   "file_extension": ".py",
   "mimetype": "text/x-python",
   "name": "python",
   "nbconvert_exporter": "python",
   "pygments_lexer": "ipython3",
   "version": "3.6.4"
  }
 },
 "nbformat": 4,
 "nbformat_minor": 1
}
